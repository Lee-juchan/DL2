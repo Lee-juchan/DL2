{
 "cells": [
  {
   "cell_type": "markdown",
   "id": "HOSMrsbTx8x0",
   "metadata": {
    "id": "HOSMrsbTx8x0"
   },
   "source": [
    "<a href=\"https://colab.research.google.com/drive/1bIxUqhrc1fHLgAgoOoaUoEgGvbhbTXqp#scrollTo=HOSMrsbTx8x0\" target=\"_parent\"><img src=\"https://colab.research.google.com/assets/colab-badge.svg\" alt=\"Open In Colab\"/></a>"
   ]
  },
  {
   "cell_type": "markdown",
   "id": "MklQvLbEyA6F",
   "metadata": {
    "id": "MklQvLbEyA6F"
   },
   "source": [
    "# Decision tree & Random forest"
   ]
  },
  {
   "cell_type": "markdown",
   "id": "dnoAyXk4yA_P",
   "metadata": {
    "id": "dnoAyXk4yA_P"
   },
   "source": [
    "## 1. Load dataset & import library"
   ]
  },
  {
   "cell_type": "code",
   "execution_count": null,
   "id": "1ac01ef6",
   "metadata": {
    "executionInfo": {
     "elapsed": 6702,
     "status": "ok",
     "timestamp": 1728383722610,
     "user": {
      "displayName": "Smart Design Lab",
      "userId": "14049043496649695794"
     },
     "user_tz": -540
    },
    "id": "1ac01ef6"
   },
   "outputs": [],
   "source": [
    "import os\n",
    "import cv2 as cv\n",
    "import numpy as np\n",
    "import pandas as pd\n",
    "import matplotlib.pyplot as plt\n",
    "import sklearn\n",
    "from sklearn.metrics import classification_report, ConfusionMatrixDisplay\n",
    "from sklearn.tree import DecisionTreeClassifier, plot_tree\n",
    "from sklearn.ensemble import RandomForestClassifier\n",
    "import scipy"
   ]
  },
  {
   "cell_type": "markdown",
   "id": "dfe9d031",
   "metadata": {
    "id": "dfe9d031"
   },
   "source": [
    "## 2. Load train/test data from CSV file"
   ]
  },
  {
   "cell_type": "code",
   "execution_count": null,
   "id": "8e628a8b",
   "metadata": {
    "colab": {
     "base_uri": "https://localhost:8080/"
    },
    "executionInfo": {
     "elapsed": 9438,
     "status": "ok",
     "timestamp": 1728383732044,
     "user": {
      "displayName": "Smart Design Lab",
      "userId": "14049043496649695794"
     },
     "user_tz": -540
    },
    "id": "8e628a8b",
    "outputId": "47b9f289-1f13-4b0b-9a4a-29bda1cdf19a"
   },
   "outputs": [],
   "source": [
    "X_train = pd.read_csv('./dataset/data_ML/X_train.csv', header=None).values\n",
    "y_train = pd.read_csv('./dataset/data_ML/y_train.csv', header=None).values\n",
    "X_test = pd.read_csv('./dataset/data_ML/X_test.csv', header=None).values\n",
    "y_test = pd.read_csv('./dataset/data_ML/y_test.csv', header=None).values\n",
    "print(f'X_train.shape: {X_train.shape}, X_test.shape: {X_test.shape}')"
   ]
  },
  {
   "cell_type": "markdown",
   "id": "2e6a0f09",
   "metadata": {
    "id": "2e6a0f09"
   },
   "source": [
    "## 3. Classification using decision tree/ random forest\n"
   ]
  },
  {
   "cell_type": "markdown",
   "id": "231fb029",
   "metadata": {
    "id": "231fb029"
   },
   "source": [
    "## 3.1 Decision Tree"
   ]
  },
  {
   "cell_type": "markdown",
   "id": "5679acb5",
   "metadata": {
    "id": "5679acb5"
   },
   "source": [
    "### Source Code"
   ]
  },
  {
   "cell_type": "code",
   "execution_count": null,
   "id": "c264f87d",
   "metadata": {
    "executionInfo": {
     "elapsed": 6,
     "status": "ok",
     "timestamp": 1728383732044,
     "user": {
      "displayName": "Smart Design Lab",
      "userId": "14049043496649695794"
     },
     "user_tz": -540
    },
    "id": "c264f87d"
   },
   "outputs": [],
   "source": [
    "class DecisionTreeFromScratch:\n",
    "    def __init__(self):\n",
    "        pass\n",
    "\n",
    "    def find_split(self, x, y):\n",
    "        \"\"\"Given a dataset and its target values, this finds the optimal combination\n",
    "        of feature and split point that gives the best loss function.\"\"\"\n",
    "\n",
    "        best = {'loss_fn': np.inf}\n",
    "        # Loop every possible split of every dimension...\n",
    "        for i in range(x.shape[1]):  # x.shape is [n,d] so x.shape[1] is d\n",
    "            for split in np.unique(x[:, i]):  # unique values of each column in x\n",
    "                # left indices...\n",
    "                left_indices = np.where(x[:, i] <= split)\n",
    "                # right indices...\n",
    "                right_indices = np.where(x[:, i] > split)\n",
    "                n = len(x[:, i])\n",
    "                n_l = len(left_indices[0])\n",
    "                n_r = len(right_indices[0])\n",
    "\n",
    "                # calculate infogain (number of bits/nats obtained from traversing the split)...\n",
    "                loss_fn = (n_l/n) * np.var(y[left_indices]) + (n_r/n) * np.var(y[right_indices])\n",
    "\n",
    "                if loss_fn < best['loss_fn']:\n",
    "                    best = {'feature': i,\n",
    "                            'split': split,\n",
    "                            'loss_fn': loss_fn,\n",
    "                            'left_indices': left_indices[0],\n",
    "                            'right_indices': right_indices[0]}\n",
    "        return best\n",
    "\n",
    "\n",
    "    def build_tree(self, x, y, max_depth=np.inf):\n",
    "        # Check if either of the stopping conditions have been reached. If so generate a leaf node...\n",
    "        # if max_depth is reached or there is only 5 left\n",
    "        if max_depth == 1 or len(x) <= 5:\n",
    "            # Generate a leaf node...\n",
    "            mode = scipy.stats.mode(y)[0][0]\n",
    "            return {'leaf': True, 'mode': mode}\n",
    "\n",
    "        else:\n",
    "            move = self.find_split(x, y)\n",
    "            try:\n",
    "                # recursive functions\n",
    "                left = self.build_tree(x[move['left_indices'], :], y[move['left_indices']], max_depth - 1)\n",
    "                right = self.build_tree(x[move['right_indices'], :], y[move['right_indices']], max_depth - 1)\n",
    "\n",
    "                return {'leaf': False,\n",
    "                        'feature': move['feature'],\n",
    "                        'split': move['split'],\n",
    "                        'loss_fn': move['loss_fn'],\n",
    "                        'left': left,\n",
    "                        'right': right}\n",
    "\n",
    "            except KeyError:\n",
    "                # when splitting does not split to left and right as keeping the original gives lowest loss fn\n",
    "                mode = scipy.stats.mode(y)[0][0]\n",
    "                return {'leaf': True, 'mode': mode}\n",
    "\n",
    "\n",
    "    def predict(self, tree, samples):\n",
    "        \"\"\"Predicts class for every entry of a data matrix.\"\"\"\n",
    "        ret = np.empty(samples.shape[0], dtype=int)\n",
    "        ret.fill(-1)\n",
    "        indices = np.arange(samples.shape[0])\n",
    "\n",
    "        def tranverse(node, indices):\n",
    "            nonlocal samples\n",
    "            nonlocal ret\n",
    "\n",
    "            if node['leaf']:\n",
    "                ret[indices] = node['mode']\n",
    "\n",
    "            else:\n",
    "                going_left = samples[indices, node['feature']] <= node['split']\n",
    "                left_indices = indices[going_left]\n",
    "                right_indices = indices[np.logical_not(going_left)]\n",
    "\n",
    "                if left_indices.shape[0] > 0:\n",
    "                    tranverse(node['left'], left_indices)\n",
    "\n",
    "                if right_indices.shape[0] > 0:\n",
    "                    tranverse(node['right'], right_indices)\n",
    "\n",
    "        tranverse(tree, indices)\n",
    "        return ret"
   ]
  },
  {
   "cell_type": "code",
   "execution_count": null,
   "id": "15a71767",
   "metadata": {
    "colab": {
     "base_uri": "https://localhost:8080/"
    },
    "executionInfo": {
     "elapsed": 616372,
     "status": "ok",
     "timestamp": 1728384348411,
     "user": {
      "displayName": "Smart Design Lab",
      "userId": "14049043496649695794"
     },
     "user_tz": -540
    },
    "id": "15a71767",
    "outputId": "cd7650f1-12c5-4ed4-8ff4-a83a0eb80b1e"
   },
   "outputs": [],
   "source": [
    "clf_dt_scratch = DecisionTreeFromScratch()\n",
    "tree = clf_dt_scratch.build_tree(X_train, y_train, max_depth=5)\n",
    "y_pred = clf_dt_scratch.predict(tree, X_test)"
   ]
  },
  {
   "cell_type": "code",
   "execution_count": null,
   "id": "3de6f5c2",
   "metadata": {
    "colab": {
     "base_uri": "https://localhost:8080/"
    },
    "executionInfo": {
     "elapsed": 10,
     "status": "ok",
     "timestamp": 1728384348413,
     "user": {
      "displayName": "Smart Design Lab",
      "userId": "14049043496649695794"
     },
     "user_tz": -540
    },
    "id": "3de6f5c2",
    "outputId": "dd557920-d37c-482c-e972-e7c50202356e"
   },
   "outputs": [],
   "source": [
    "print(classification_report(y_test, y_pred))"
   ]
  },
  {
   "cell_type": "code",
   "execution_count": null,
   "id": "abdde7c2",
   "metadata": {
    "colab": {
     "base_uri": "https://localhost:8080/",
     "height": 449
    },
    "executionInfo": {
     "elapsed": 1306,
     "status": "ok",
     "timestamp": 1728384349711,
     "user": {
      "displayName": "Smart Design Lab",
      "userId": "14049043496649695794"
     },
     "user_tz": -540
    },
    "id": "abdde7c2",
    "outputId": "b89b6a4d-2a73-4110-aa2e-2260f26610d4"
   },
   "outputs": [],
   "source": [
    "ConfusionMatrixDisplay.from_predictions(y_test, y_pred)\n",
    "plt.show()"
   ]
  },
  {
   "cell_type": "markdown",
   "id": "32f53157",
   "metadata": {
    "id": "32f53157"
   },
   "source": [
    "### Decision tree using scikit-learn"
   ]
  },
  {
   "cell_type": "code",
   "execution_count": null,
   "id": "c0638e63",
   "metadata": {
    "executionInfo": {
     "elapsed": 1322,
     "status": "ok",
     "timestamp": 1728384351027,
     "user": {
      "displayName": "Smart Design Lab",
      "userId": "14049043496649695794"
     },
     "user_tz": -540
    },
    "id": "c0638e63"
   },
   "outputs": [],
   "source": [
    "clf_dt = DecisionTreeClassifier(max_depth=3)\n",
    "clf_dt.fit(X_train, y_train)\n",
    "y_pred = clf_dt.predict(X_test)"
   ]
  },
  {
   "cell_type": "code",
   "execution_count": null,
   "id": "94272716",
   "metadata": {
    "colab": {
     "base_uri": "https://localhost:8080/"
    },
    "executionInfo": {
     "elapsed": 11,
     "status": "ok",
     "timestamp": 1728384351028,
     "user": {
      "displayName": "Smart Design Lab",
      "userId": "14049043496649695794"
     },
     "user_tz": -540
    },
    "id": "94272716",
    "outputId": "d94d1e87-971d-4c62-eaf7-13366d1dcca2"
   },
   "outputs": [],
   "source": [
    "print(classification_report(y_test, y_pred))"
   ]
  },
  {
   "cell_type": "code",
   "execution_count": null,
   "id": "272c4d23",
   "metadata": {
    "colab": {
     "base_uri": "https://localhost:8080/",
     "height": 449
    },
    "executionInfo": {
     "elapsed": 9,
     "status": "ok",
     "timestamp": 1728384351028,
     "user": {
      "displayName": "Smart Design Lab",
      "userId": "14049043496649695794"
     },
     "user_tz": -540
    },
    "id": "272c4d23",
    "outputId": "82e6e567-25aa-4f9a-b728-613e5c3665e1"
   },
   "outputs": [],
   "source": [
    "ConfusionMatrixDisplay.from_predictions(y_test, y_pred)\n",
    "plt.show()"
   ]
  },
  {
   "cell_type": "markdown",
   "id": "8f7be17d",
   "metadata": {
    "id": "8f7be17d"
   },
   "source": [
    "### Decision Tree Visualisation"
   ]
  },
  {
   "cell_type": "code",
   "execution_count": null,
   "id": "6192b89d",
   "metadata": {
    "colab": {
     "base_uri": "https://localhost:8080/",
     "height": 1000
    },
    "executionInfo": {
     "elapsed": 2360,
     "status": "ok",
     "timestamp": 1728384353380,
     "user": {
      "displayName": "Smart Design Lab",
      "userId": "14049043496649695794"
     },
     "user_tz": -540
    },
    "id": "6192b89d",
    "outputId": "f41a913a-e472-4eab-e482-473f96e759fa"
   },
   "outputs": [],
   "source": [
    "fig = plt.figure(figsize=(25, 20))\n",
    "_ = plot_tree(clf_dt, filled=True)"
   ]
  },
  {
   "cell_type": "markdown",
   "id": "74966bdf",
   "metadata": {
    "id": "74966bdf"
   },
   "source": [
    "## 3.2. Random Forest"
   ]
  },
  {
   "cell_type": "markdown",
   "id": "f30bba5c",
   "metadata": {
    "id": "f30bba5c"
   },
   "source": [
    "### scikit-learn"
   ]
  },
  {
   "cell_type": "code",
   "execution_count": null,
   "id": "f19da95b",
   "metadata": {
    "colab": {
     "base_uri": "https://localhost:8080/"
    },
    "executionInfo": {
     "elapsed": 5262,
     "status": "ok",
     "timestamp": 1728384358635,
     "user": {
      "displayName": "Smart Design Lab",
      "userId": "14049043496649695794"
     },
     "user_tz": -540
    },
    "id": "f19da95b",
    "outputId": "88f020b3-a54f-4e98-a157-a0278f75d422"
   },
   "outputs": [],
   "source": [
    "clf_rf = RandomForestClassifier()\n",
    "clf_rf.fit(X_train, y_train)\n",
    "y_pred = clf_rf.predict(X_test)"
   ]
  },
  {
   "cell_type": "code",
   "execution_count": null,
   "id": "f38b9f42",
   "metadata": {
    "colab": {
     "base_uri": "https://localhost:8080/"
    },
    "executionInfo": {
     "elapsed": 7,
     "status": "ok",
     "timestamp": 1728384358636,
     "user": {
      "displayName": "Smart Design Lab",
      "userId": "14049043496649695794"
     },
     "user_tz": -540
    },
    "id": "f38b9f42",
    "outputId": "0910f148-b72f-441c-f549-9f61a331aa53"
   },
   "outputs": [],
   "source": [
    "print(classification_report(y_test, y_pred))"
   ]
  },
  {
   "cell_type": "code",
   "execution_count": null,
   "id": "25194c95",
   "metadata": {
    "colab": {
     "base_uri": "https://localhost:8080/",
     "height": 449
    },
    "executionInfo": {
     "elapsed": 1302,
     "status": "ok",
     "timestamp": 1728384359934,
     "user": {
      "displayName": "Smart Design Lab",
      "userId": "14049043496649695794"
     },
     "user_tz": -540
    },
    "id": "25194c95",
    "outputId": "021d4d45-b80e-4fa7-c541-88abc578e28d"
   },
   "outputs": [],
   "source": [
    "ConfusionMatrixDisplay.from_predictions(y_test, y_pred)\n",
    "plt.show()"
   ]
  }
 ],
 "metadata": {
  "colab": {
   "provenance": []
  },
  "kernelspec": {
   "display_name": "dl",
   "language": "python",
   "name": "python3"
  },
  "language_info": {
   "codemirror_mode": {
    "name": "ipython",
    "version": 3
   },
   "file_extension": ".py",
   "mimetype": "text/x-python",
   "name": "python",
   "nbconvert_exporter": "python",
   "pygments_lexer": "ipython3",
   "version": "3.12.9"
  }
 },
 "nbformat": 4,
 "nbformat_minor": 5
}
