{
 "cells": [
  {
   "cell_type": "markdown",
   "id": "KeuFct5irbCw",
   "metadata": {
    "id": "KeuFct5irbCw"
   },
   "source": [
    "<a href=\"https://colab.research.google.com/drive/1TllRTgcPbXNEn39pcpBmUroVSiwaI2LI#scrollTo=KeuFct5irbCw\" target=\"_parent\"><img src=\"https://colab.research.google.com/assets/colab-badge.svg\" alt=\"Open In Colab\"/></a>"
   ]
  },
  {
   "cell_type": "markdown",
   "id": "Kqbfprh6oQcX",
   "metadata": {
    "id": "Kqbfprh6oQcX"
   },
   "source": [
    "# Logistic Regression"
   ]
  },
  {
   "cell_type": "markdown",
   "id": "6og1pIEGobBO",
   "metadata": {
    "id": "6og1pIEGobBO"
   },
   "source": [
    "## 1. Load dataset & import library"
   ]
  },
  {
   "cell_type": "code",
   "execution_count": null,
   "id": "dbeaf470",
   "metadata": {
    "executionInfo": {
     "elapsed": 4583,
     "status": "ok",
     "timestamp": 1728383681063,
     "user": {
      "displayName": "Smart Design Lab",
      "userId": "14049043496649695794"
     },
     "user_tz": -540
    },
    "id": "dbeaf470"
   },
   "outputs": [],
   "source": [
    "import os\n",
    "import cv2 as cv\n",
    "import numpy as np\n",
    "import pandas as pd\n",
    "import matplotlib.pyplot as plt\n",
    "import sklearn\n",
    "from sklearn.metrics import classification_report, ConfusionMatrixDisplay\n",
    "from sklearn.linear_model import LogisticRegression"
   ]
  },
  {
   "cell_type": "markdown",
   "id": "f7807e62",
   "metadata": {
    "id": "f7807e62"
   },
   "source": [
    "## 2. Load train/test data from CSV file"
   ]
  },
  {
   "cell_type": "code",
   "execution_count": null,
   "id": "dfd62f39",
   "metadata": {
    "colab": {
     "base_uri": "https://localhost:8080/"
    },
    "executionInfo": {
     "elapsed": 4931,
     "status": "ok",
     "timestamp": 1728383685992,
     "user": {
      "displayName": "Smart Design Lab",
      "userId": "14049043496649695794"
     },
     "user_tz": -540
    },
    "id": "dfd62f39",
    "outputId": "4883c3ea-ab28-438e-d1f2-7b9caf47006a"
   },
   "outputs": [],
   "source": [
    "X_train = pd.read_csv('./dataset/data_ML/X_train.csv', header=None).values\n",
    "y_train = pd.read_csv('./dataset/data_ML/y_train.csv', header=None).values\n",
    "X_test = pd.read_csv('./dataset/data_ML/X_test.csv', header=None).values\n",
    "y_test = pd.read_csv('./dataset/data_ML/y_test.csv', header=None).values\n",
    "print(f'X_train.shape: {X_train.shape}, X_test.shape: {X_test.shape}')"
   ]
  },
  {
   "cell_type": "markdown",
   "id": "2e6a0f09",
   "metadata": {
    "id": "2e6a0f09"
   },
   "source": [
    "## 3. Classification using logistic regression"
   ]
  },
  {
   "cell_type": "markdown",
   "id": "f643c4d8",
   "metadata": {
    "id": "f643c4d8"
   },
   "source": [
    "Code utilizing the scikit-learn library and a source code version of the algorithm are prepared. In the source code, optimization methods and loss functions can be specified directly."
   ]
  },
  {
   "cell_type": "markdown",
   "id": "b3f018a8",
   "metadata": {
    "id": "b3f018a8"
   },
   "source": [
    "## Logistic Regression"
   ]
  },
  {
   "cell_type": "markdown",
   "id": "cb25ea0c",
   "metadata": {
    "id": "cb25ea0c"
   },
   "source": [
    "### Source Code"
   ]
  },
  {
   "cell_type": "code",
   "execution_count": null,
   "id": "cf5b6b20",
   "metadata": {
    "executionInfo": {
     "elapsed": 7,
     "status": "ok",
     "timestamp": 1728383685992,
     "user": {
      "displayName": "Smart Design Lab",
      "userId": "14049043496649695794"
     },
     "user_tz": -540
    },
    "id": "cf5b6b20"
   },
   "outputs": [],
   "source": [
    "# LR classifier using l2 loss and gradient descent to optimise\n",
    "class LRFromScratch:\n",
    "    def __init__(self, tol=1e-4, C=1.0, max_iter=10000, alpha=1e-2):\n",
    "        self.tol = tol\n",
    "        self.C = C\n",
    "        self.max_iter = max_iter\n",
    "        self.alpha = alpha\n",
    "\n",
    "    # logistic function\n",
    "    def f_log(self, X):\n",
    "        return 1 / (1 + np.exp(-X*self.w))\n",
    "\n",
    "\n",
    "    # l2 loss function\n",
    "    def l2(self, y_true, y_pred):\n",
    "        return np.sum(np.array(y_true - y_pred)**2)\n",
    "\n",
    "\n",
    "    def fit(self, X_train, y_train):\n",
    "        X_train = np.hstack([np.ones([X_train.shape[0], 1]), X_train])\n",
    "        X_train = np.asmatrix(X_train)\n",
    "        y_train = np.asmatrix(y_train.reshape([-1, 1]))\n",
    "        print('X_train shape:', X_train.shape)\n",
    "        print('y_train shape:', y_train.shape)\n",
    "\n",
    "        self.w = np.zeros([X_train.shape[1], 1]) # initialisation of LR weights\n",
    "        self.w = np.asmatrix(self.w)\n",
    "        print('w shape:', self.w.shape)\n",
    "\n",
    "        for i in range(self.max_iter):\n",
    "            y_pred = self.f_log(X_train) # get prediction values with current weights\n",
    "            grad = -X_train.T*(y_train-y_pred) # calculate gradients from error for optimisation\n",
    "            self.w = self.w - self.alpha*grad # gradient descent\n",
    "            err = self.l2(y_train, y_pred) # measure error with l2 loss function\n",
    "            if err < self.tol: # stop the iteration if error is below the threshold (tol)\n",
    "                print(f'converged with err={err}')\n",
    "                break # stop\n",
    "\n",
    "\n",
    "    def predict(self, X):\n",
    "        X = np.hstack([np.ones([X.shape[0], 1]), X])\n",
    "        X = np.asmatrix(X)\n",
    "        return self.f_log(X)"
   ]
  },
  {
   "cell_type": "markdown",
   "id": "3e6fb51f",
   "metadata": {
    "id": "3e6fb51f"
   },
   "source": [
    "#### Train logistic regression model using train data(X_train, Y_train)"
   ]
  },
  {
   "cell_type": "code",
   "execution_count": null,
   "id": "98925ec2",
   "metadata": {
    "colab": {
     "base_uri": "https://localhost:8080/"
    },
    "executionInfo": {
     "elapsed": 45856,
     "status": "ok",
     "timestamp": 1728383731842,
     "user": {
      "displayName": "Smart Design Lab",
      "userId": "14049043496649695794"
     },
     "user_tz": -540
    },
    "id": "98925ec2",
    "outputId": "0ea8a2bd-b536-47e9-940f-35f283204bb9",
    "scrolled": false
   },
   "outputs": [],
   "source": [
    "clf_lr_scratch = LRFromScratch()\n",
    "clf_lr_scratch.fit(X_train, y_train)"
   ]
  },
  {
   "cell_type": "markdown",
   "id": "f27231a9",
   "metadata": {
    "id": "f27231a9"
   },
   "source": [
    "### Viewing the weights of a Logistic Regression model after training."
   ]
  },
  {
   "cell_type": "code",
   "execution_count": null,
   "id": "2164269e",
   "metadata": {
    "colab": {
     "base_uri": "https://localhost:8080/"
    },
    "executionInfo": {
     "elapsed": 8,
     "status": "ok",
     "timestamp": 1728383731842,
     "user": {
      "displayName": "Smart Design Lab",
      "userId": "14049043496649695794"
     },
     "user_tz": -540
    },
    "id": "2164269e",
    "outputId": "06f89e43-0f77-4795-eea6-737f142b589a"
   },
   "outputs": [],
   "source": [
    "clf_lr_scratch.w[-10:]"
   ]
  },
  {
   "cell_type": "markdown",
   "id": "777c1e28",
   "metadata": {
    "id": "777c1e28"
   },
   "source": [
    "#### Weight distribution"
   ]
  },
  {
   "cell_type": "code",
   "execution_count": null,
   "id": "63ce27da",
   "metadata": {
    "colab": {
     "base_uri": "https://localhost:8080/",
     "height": 452
    },
    "executionInfo": {
     "elapsed": 680,
     "status": "ok",
     "timestamp": 1728383732517,
     "user": {
      "displayName": "Smart Design Lab",
      "userId": "14049043496649695794"
     },
     "user_tz": -540
    },
    "id": "63ce27da",
    "outputId": "e3d05f25-5b08-4f5d-9862-4ccf00d812d3"
   },
   "outputs": [],
   "source": [
    "w = clf_lr_scratch.w[1:]\n",
    "plt.imshow(w.reshape(int(np.sqrt(w.shape[0])), -1))\n",
    "plt.colorbar()\n",
    "plt.title('Logistic Regression Weight Distribution')\n",
    "plt.show()"
   ]
  },
  {
   "cell_type": "markdown",
   "id": "1732f9be",
   "metadata": {
    "id": "1732f9be"
   },
   "source": [
    "#### Confusion Matrix"
   ]
  },
  {
   "cell_type": "code",
   "execution_count": null,
   "id": "93c2acb8",
   "metadata": {
    "colab": {
     "base_uri": "https://localhost:8080/",
     "height": 504
    },
    "executionInfo": {
     "elapsed": 7,
     "status": "ok",
     "timestamp": 1728383732517,
     "user": {
      "displayName": "Smart Design Lab",
      "userId": "14049043496649695794"
     },
     "user_tz": -540
    },
    "id": "93c2acb8",
    "outputId": "cef6f87b-b70f-4cbe-f5d5-0c58f1fdd340"
   },
   "outputs": [],
   "source": [
    "y_pred = np.asarray((clf_lr_scratch.predict(X_test) >= 0.5).astype(int))\n",
    "\n",
    "print(y_pred.shape,y_test.shape)\n",
    "ConfusionMatrixDisplay.from_predictions(y_test, y_pred)\n",
    "plt.show()"
   ]
  },
  {
   "cell_type": "markdown",
   "id": "907f7656",
   "metadata": {
    "id": "907f7656"
   },
   "source": [
    "### Logistic regression algorithm using scikit-learn"
   ]
  },
  {
   "cell_type": "code",
   "execution_count": null,
   "id": "907051cb",
   "metadata": {
    "colab": {
     "base_uri": "https://localhost:8080/"
    },
    "executionInfo": {
     "elapsed": 545,
     "status": "ok",
     "timestamp": 1728383733058,
     "user": {
      "displayName": "Smart Design Lab",
      "userId": "14049043496649695794"
     },
     "user_tz": -540
    },
    "id": "907051cb",
    "outputId": "2739b800-3023-4aa7-ce4f-a3b26ffc31c0"
   },
   "outputs": [],
   "source": [
    "clf_lr = LogisticRegression()\n",
    "clf_lr.fit(X_train, y_train)\n",
    "y_pred = clf_lr.predict(X_test)"
   ]
  },
  {
   "cell_type": "code",
   "execution_count": null,
   "id": "1c880f72",
   "metadata": {
    "colab": {
     "base_uri": "https://localhost:8080/"
    },
    "executionInfo": {
     "elapsed": 4,
     "status": "ok",
     "timestamp": 1728383733058,
     "user": {
      "displayName": "Smart Design Lab",
      "userId": "14049043496649695794"
     },
     "user_tz": -540
    },
    "id": "1c880f72",
    "outputId": "e28f9c75-1ae0-4db4-eadd-e95ca908da7b"
   },
   "outputs": [],
   "source": [
    "print(classification_report(y_test, y_pred))"
   ]
  },
  {
   "cell_type": "code",
   "execution_count": null,
   "id": "13aa34c1",
   "metadata": {
    "colab": {
     "base_uri": "https://localhost:8080/",
     "height": 449
    },
    "executionInfo": {
     "elapsed": 489,
     "status": "ok",
     "timestamp": 1728383733544,
     "user": {
      "displayName": "Smart Design Lab",
      "userId": "14049043496649695794"
     },
     "user_tz": -540
    },
    "id": "13aa34c1",
    "outputId": "993a2149-2fcf-48b1-934e-2fb4a9aa3cdc"
   },
   "outputs": [],
   "source": [
    "ConfusionMatrixDisplay.from_predictions(y_test, y_pred)\n",
    "plt.show()"
   ]
  }
 ],
 "metadata": {
  "colab": {
   "provenance": []
  },
  "kernelspec": {
   "display_name": "dl",
   "language": "python",
   "name": "python3"
  },
  "language_info": {
   "codemirror_mode": {
    "name": "ipython",
    "version": 3
   },
   "file_extension": ".py",
   "mimetype": "text/x-python",
   "name": "python",
   "nbconvert_exporter": "python",
   "pygments_lexer": "ipython3",
   "version": "3.12.3"
  }
 },
 "nbformat": 4,
 "nbformat_minor": 5
}
