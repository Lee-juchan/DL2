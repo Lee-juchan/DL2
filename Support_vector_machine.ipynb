{
 "cells": [
  {
   "cell_type": "markdown",
   "id": "v5VdKgP2rfPq",
   "metadata": {
    "id": "v5VdKgP2rfPq"
   },
   "source": [
    "<a href=\"https://colab.research.google.com/drive/1JQDcfSdIb7XNiky6cp2K7vEBS2ZdpXNW#scrollTo=v5VdKgP2rfPq\" target=\"_parent\"><img src=\"https://colab.research.google.com/assets/colab-badge.svg\" alt=\"Open In Colab\"/></a>"
   ]
  },
  {
   "cell_type": "markdown",
   "id": "f0voI-IJrrDN",
   "metadata": {
    "id": "f0voI-IJrrDN"
   },
   "source": [
    "# Support Vector Machine (SVM)"
   ]
  },
  {
   "cell_type": "markdown",
   "id": "m7StSvD4rwm_",
   "metadata": {
    "id": "m7StSvD4rwm_"
   },
   "source": [
    "## 1. Load dataset & import library"
   ]
  },
  {
   "cell_type": "code",
   "execution_count": null,
   "id": "dbeaf470",
   "metadata": {
    "executionInfo": {
     "elapsed": 6424,
     "status": "ok",
     "timestamp": 1728383707536,
     "user": {
      "displayName": "Smart Design Lab",
      "userId": "14049043496649695794"
     },
     "user_tz": -540
    },
    "id": "dbeaf470"
   },
   "outputs": [],
   "source": [
    "import os\n",
    "import cv2 as cv\n",
    "import numpy as np\n",
    "import pandas as pd\n",
    "import matplotlib.pyplot as plt\n",
    "import sklearn\n",
    "from sklearn.svm import SVC\n",
    "from sklearn.metrics import classification_report, ConfusionMatrixDisplay\n",
    "import cvxpy as cvx # using convex optimisation\n",
    "from collections import Counter"
   ]
  },
  {
   "cell_type": "markdown",
   "id": "bb6b6d69",
   "metadata": {
    "id": "bb6b6d69"
   },
   "source": [
    "## 2. Load train/test data from CSV file"
   ]
  },
  {
   "cell_type": "code",
   "execution_count": null,
   "id": "99df2e03",
   "metadata": {
    "colab": {
     "base_uri": "https://localhost:8080/"
    },
    "executionInfo": {
     "elapsed": 7394,
     "status": "ok",
     "timestamp": 1728383714927,
     "user": {
      "displayName": "Smart Design Lab",
      "userId": "14049043496649695794"
     },
     "user_tz": -540
    },
    "id": "99df2e03",
    "outputId": "8bc2ec60-f45f-4b26-aede-c302e78add61"
   },
   "outputs": [],
   "source": [
    "X_train = pd.read_csv('./dataset/data_ML/X_train.csv', header=None).values\n",
    "y_train = pd.read_csv('./dataset/data_ML/y_train.csv', header=None).values\n",
    "X_test = pd.read_csv('./dataset/data_ML/X_test.csv', header=None).values\n",
    "y_test = pd.read_csv('./dataset/data_ML/y_test.csv', header=None).values\n",
    "print(f'X_train.shape: {X_train.shape}, X_test.shape: {X_test.shape}')"
   ]
  },
  {
   "cell_type": "markdown",
   "id": "2e6a0f09",
   "metadata": {
    "id": "2e6a0f09"
   },
   "source": [
    "## 3. Classification using SVM"
   ]
  },
  {
   "cell_type": "markdown",
   "id": "sU6MjXW8tB7a",
   "metadata": {
    "id": "sU6MjXW8tB7a"
   },
   "source": [
    "Code utilizing the scikit-learn library and a source code version of the algorithm are prepared. In the source code, optimization methods and loss functions can be specified directly."
   ]
  },
  {
   "cell_type": "markdown",
   "id": "5671984c",
   "metadata": {
    "id": "5671984c"
   },
   "source": [
    "## SVM"
   ]
  },
  {
   "cell_type": "markdown",
   "id": "ba9b2596",
   "metadata": {
    "id": "ba9b2596"
   },
   "source": [
    "### Source Code"
   ]
  },
  {
   "cell_type": "code",
   "execution_count": null,
   "id": "465adf8b",
   "metadata": {
    "executionInfo": {
     "elapsed": 6,
     "status": "ok",
     "timestamp": 1728383714928,
     "user": {
      "displayName": "Smart Design Lab",
      "userId": "14049043496649695794"
     },
     "user_tz": -540
    },
    "id": "465adf8b"
   },
   "outputs": [],
   "source": [
    "# Support vector machines classifier with soft margin C=1 and rbf kernel\n",
    "class SVMFromScratch:\n",
    "    def __init__(self):\n",
    "        pass\n",
    "\n",
    "\n",
    "    def fit(self, X, y):\n",
    "        X0 = X[np.where(y==0)[0]]\n",
    "        X1 = X[np.where(y==1)[0]]\n",
    "\n",
    "        y = y.reshape(-1, 1)\n",
    "\n",
    "        w0 = cvx.Variable([1, 1])\n",
    "        w = cvx.Variable([X.shape[1], 1])\n",
    "\n",
    "        obj = cvx.Minimize(cvx.norm(w, 2)**2 / 2)\n",
    "        constraints = [w0 + X0@w <= -1, w0 + X1@w >= 1]\n",
    "        prob = cvx.Problem(obj, constraints)\n",
    "        self.results = prob.solve()\n",
    "\n",
    "        self.w0 = w0.value\n",
    "        self.w = w.value\n",
    "\n",
    "\n",
    "    def predict(self, X):\n",
    "        return ((self.w0 + X@np.array(self.w)) >= 0).astype(int)"
   ]
  },
  {
   "cell_type": "code",
   "execution_count": null,
   "id": "064ab474",
   "metadata": {
    "executionInfo": {
     "elapsed": 722290,
     "status": "ok",
     "timestamp": 1728384437213,
     "user": {
      "displayName": "Smart Design Lab",
      "userId": "14049043496649695794"
     },
     "user_tz": -540
    },
    "id": "064ab474",
    "scrolled": true
   },
   "outputs": [],
   "source": [
    "# takes a while...\n",
    "svm = SVMFromScratch()\n",
    "svm.fit(X_train, y_train)"
   ]
  },
  {
   "cell_type": "code",
   "execution_count": null,
   "id": "4ac058ed",
   "metadata": {
    "colab": {
     "base_uri": "https://localhost:8080/"
    },
    "executionInfo": {
     "elapsed": 22,
     "status": "ok",
     "timestamp": 1728384437215,
     "user": {
      "displayName": "Smart Design Lab",
      "userId": "14049043496649695794"
     },
     "user_tz": -540
    },
    "id": "4ac058ed",
    "outputId": "a1370223-fac3-4c73-ed44-71169c8e8af2"
   },
   "outputs": [],
   "source": [
    "svm.w0"
   ]
  },
  {
   "cell_type": "code",
   "execution_count": null,
   "id": "fe99ee4f",
   "metadata": {
    "executionInfo": {
     "elapsed": 18,
     "status": "ok",
     "timestamp": 1728384437216,
     "user": {
      "displayName": "Smart Design Lab",
      "userId": "14049043496649695794"
     },
     "user_tz": -540
    },
    "id": "fe99ee4f"
   },
   "outputs": [],
   "source": [
    "y_pred = svm.predict(X_test).reshape(-1)"
   ]
  },
  {
   "cell_type": "code",
   "execution_count": null,
   "id": "35a79dbc",
   "metadata": {
    "colab": {
     "base_uri": "https://localhost:8080/"
    },
    "executionInfo": {
     "elapsed": 18,
     "status": "ok",
     "timestamp": 1728384437217,
     "user": {
      "displayName": "Smart Design Lab",
      "userId": "14049043496649695794"
     },
     "user_tz": -540
    },
    "id": "35a79dbc",
    "outputId": "20744384-2a19-4fb6-d949-495f53618692"
   },
   "outputs": [],
   "source": [
    "print(classification_report(y_test, y_pred))"
   ]
  },
  {
   "cell_type": "code",
   "execution_count": null,
   "id": "d621c8b7",
   "metadata": {
    "colab": {
     "base_uri": "https://localhost:8080/",
     "height": 449
    },
    "executionInfo": {
     "elapsed": 430,
     "status": "ok",
     "timestamp": 1728384437632,
     "user": {
      "displayName": "Smart Design Lab",
      "userId": "14049043496649695794"
     },
     "user_tz": -540
    },
    "id": "d621c8b7",
    "outputId": "15a908b2-64ae-4846-ee2f-cfd6c08dfb30"
   },
   "outputs": [],
   "source": [
    "ConfusionMatrixDisplay.from_predictions(y_test, y_pred)\n",
    "plt.show()"
   ]
  },
  {
   "cell_type": "markdown",
   "id": "276e1635",
   "metadata": {
    "id": "276e1635"
   },
   "source": [
    "### SVM algorithm using scikit-learn"
   ]
  },
  {
   "cell_type": "code",
   "execution_count": null,
   "id": "93e47489",
   "metadata": {
    "colab": {
     "base_uri": "https://localhost:8080/"
    },
    "executionInfo": {
     "elapsed": 2591,
     "status": "ok",
     "timestamp": 1728384440213,
     "user": {
      "displayName": "Smart Design Lab",
      "userId": "14049043496649695794"
     },
     "user_tz": -540
    },
    "id": "93e47489",
    "outputId": "cec32d28-0c5e-4d7a-fe30-25e87dd3b1db"
   },
   "outputs": [],
   "source": [
    "clf_svc = SVC(kernel='poly')\n",
    "clf_svc.fit(X_train, y_train)\n",
    "y_pred = clf_svc.predict(X_test)"
   ]
  },
  {
   "cell_type": "code",
   "execution_count": null,
   "id": "3c263ccb",
   "metadata": {
    "colab": {
     "base_uri": "https://localhost:8080/"
    },
    "executionInfo": {
     "elapsed": 39,
     "status": "ok",
     "timestamp": 1728384440214,
     "user": {
      "displayName": "Smart Design Lab",
      "userId": "14049043496649695794"
     },
     "user_tz": -540
    },
    "id": "3c263ccb",
    "outputId": "f208ffc5-e991-4c70-8df8-ae5cbffe9a50"
   },
   "outputs": [],
   "source": [
    "print(classification_report(y_test, y_pred))"
   ]
  },
  {
   "cell_type": "code",
   "execution_count": null,
   "id": "93fba2d1",
   "metadata": {
    "colab": {
     "base_uri": "https://localhost:8080/",
     "height": 449
    },
    "executionInfo": {
     "elapsed": 30,
     "status": "ok",
     "timestamp": 1728384440215,
     "user": {
      "displayName": "Smart Design Lab",
      "userId": "14049043496649695794"
     },
     "user_tz": -540
    },
    "id": "93fba2d1",
    "outputId": "9ebe6650-2936-49bd-bdcf-0d3363ca0cde"
   },
   "outputs": [],
   "source": [
    "ConfusionMatrixDisplay.from_predictions(y_test, y_pred)\n",
    "plt.show()"
   ]
  }
 ],
 "metadata": {
  "colab": {
   "provenance": []
  },
  "kernelspec": {
   "display_name": "dl",
   "language": "python",
   "name": "python3"
  },
  "language_info": {
   "codemirror_mode": {
    "name": "ipython",
    "version": 3
   },
   "file_extension": ".py",
   "mimetype": "text/x-python",
   "name": "python",
   "nbconvert_exporter": "python",
   "pygments_lexer": "ipython3",
   "version": "3.12.3"
  }
 },
 "nbformat": 4,
 "nbformat_minor": 5
}
