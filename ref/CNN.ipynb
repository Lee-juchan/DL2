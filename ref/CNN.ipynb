{
  "cells": [
    {
      "cell_type": "markdown",
      "metadata": {
        "colab_type": "text",
        "id": "view-in-github"
      },
      "source": [
        "<a href=\"https://colab.research.google.com/github/smartdesignlab/SDL_teaching/blob/main/CNN.ipynb\" target=\"_parent\"><img src=\"https://colab.research.google.com/assets/colab-badge.svg\" alt=\"Open In Colab\"/></a>"
      ]
    },
    {
      "cell_type": "markdown",
      "metadata": {
        "id": "DKHbEXbRj9ue"
      },
      "source": [
        "# Convolutional Neural Network (CNN)"
      ]
    },
    {
      "cell_type": "markdown",
      "metadata": {
        "id": "rwVCbrjtkBIL"
      },
      "source": [
        "## 1. Load dataset"
      ]
    },
    {
      "cell_type": "markdown",
      "metadata": {
        "id": "hgvjT0T8mLa9",
        "tags": []
      },
      "source": [
        "## 2. Import python libraries and define util functions"
      ]
    },
    {
      "cell_type": "code",
      "execution_count": null,
      "metadata": {
        "id": "O57E3gCOkNgT"
      },
      "outputs": [],
      "source": [
        "import numpy as np\n",
        "import pandas as pd\n",
        "import cv2 as cv\n",
        "import matplotlib.pyplot as plt\n",
        "import os\n",
        "import random\n",
        "from sklearn.preprocessing import MinMaxScaler\n",
        "\n",
        "import torch\n",
        "import torch.nn as nn\n",
        "import torch.nn.functional as F\n",
        "import torch.optim as optim\n",
        "from torch.utils.data import DataLoader, TensorDataset\n",
        "from torchmetrics.functional.regression import mean_squared_error\n",
        "from torchmetrics.functional.regression import mean_absolute_percentage_error\n",
        "from torchsummary import summary\n",
        "\n",
        "from sklearn.model_selection import train_test_split\n",
        "\n",
        "device = torch.device('cuda' if torch.cuda.is_available() else 'cpu')\n",
        "\n",
        "# function to set seed\n",
        "def set_seed(seed=42):\n",
        "    # fix random seed\n",
        "    random.seed(seed)\n",
        "    np.random.seed(seed)\n",
        "    torch.manual_seed(seed)\n",
        "    if torch.cuda.is_available():\n",
        "        torch.cuda.manual_seed(seed)\n",
        "        torch.cuda.manual_seed_all(seed)\n",
        "\n",
        "    # CuDNN setup\n",
        "    torch.backends.cudnn.deterministic = True\n",
        "    torch.backends.cudnn.benchmark = False\n",
        "\n",
        "# function to read and display images\n",
        "def img_read_plot(src,file):\n",
        "    img = cv.imread(src+file,cv.COLOR_BGR2GRAY)  # convert the image to grayscale\n",
        "    plt.imshow(img, cmap='gray')\n",
        "    plt.xticks([])  # x axis\n",
        "    plt.yticks([])  # y axis\n",
        "    plt.show()  # display the image\n",
        "    return img\n",
        "\n",
        "# function to read images\n",
        "def img_read(src,file):\n",
        "    img = cv.imread(src+file,cv.COLOR_BGR2GRAY)  # convert the image to grayscale\n",
        "    return img\n",
        "\n",
        "# function to plot a line graph for RMSE history after model training\n",
        "def plot_rmse(rmse_train_history, rmse_valid_history, title=None):\n",
        "\n",
        "    plt.plot(rmse_train_history)\n",
        "    plt.plot(rmse_valid_history)\n",
        "    if title is not None:\n",
        "        plt.title(title)\n",
        "    plt.ylabel('RMSE')\n",
        "    plt.xlabel('Epochs')\n",
        "    plt.legend(['Training data', 'Validation data'], loc=0)\n",
        "    # plt.show()\n",
        "\n",
        "# function to plot a line graph for MAPE history after model training\n",
        "def plot_mape(mape_train_history, mape_valid_history, title=None):\n",
        "\n",
        "    plt.plot(mape_train_history)\n",
        "    plt.plot(mape_valid_history)\n",
        "    if title is not None:\n",
        "        plt.title(title)\n",
        "    plt.ylabel('MAPE')\n",
        "    plt.xlabel('Epochs')\n",
        "    plt.legend(['Training data', 'Validation data'], loc=0)\n",
        "    # plt.show()\n",
        "\n",
        "# function to plot a line graph for loss history after model training\n",
        "def plot_loss(loss_train_history, loss_valid_history, title=None):\n",
        "\n",
        "    plt.plot(loss_train_history)\n",
        "    plt.plot(loss_valid_history)\n",
        "    if title is not None:\n",
        "        plt.title(title)\n",
        "    plt.ylabel('Loss')\n",
        "    plt.xlabel('Epochs')\n",
        "    plt.legend(['Training data', 'Validation data'], loc=0)\n",
        "    # plt.show()\n",
        "\n",
        "# function to calculate the R2\n",
        "def r_val(true,pred):  # R2 : Coefficient of determination\n",
        "\n",
        "    true = pd.DataFrame(true)\n",
        "    pred = pd.DataFrame(pred)\n",
        "    result = true.corrwith(pred, method='pearson')\n",
        "    return (np.round(result,4)[0])"
      ]
    },
    {
      "cell_type": "code",
      "execution_count": null,
      "metadata": {
        "id": "MN4HNhDE362Q"
      },
      "outputs": [],
      "source": [
        "set_seed(0)"
      ]
    },
    {
      "cell_type": "markdown",
      "metadata": {
        "id": "-n5EapfQeOrI"
      },
      "source": [
        "## 3. Check dataset"
      ]
    },
    {
      "cell_type": "code",
      "execution_count": null,
      "metadata": {
        "colab": {
          "base_uri": "https://localhost:8080/"
        },
        "id": "AGQMPF4oeGR6",
        "outputId": "4bcb1d21-fe1f-4eb9-ffa7-75d8ba941b86"
      },
      "outputs": [],
      "source": [
        "path = '../dataset/data_500/26.831.jpg'\n",
        "from PIL import Image\n",
        "img = Image.open(path)\n",
        "img.show()\n",
        "img_array = np.array(img)\n",
        "print(img_array.shape)"
      ]
    },
    {
      "cell_type": "markdown",
      "metadata": {
        "id": "dYDl6ZHAkRHU"
      },
      "source": [
        "## 4. Convert images into trainable data"
      ]
    },
    {
      "cell_type": "code",
      "execution_count": null,
      "metadata": {
        "colab": {
          "base_uri": "https://localhost:8080/"
        },
        "id": "KFhgVGYPjoII",
        "outputId": "4d6fc26d-011e-4d71-f49a-b92363aeafb9",
        "tags": []
      },
      "outputs": [],
      "source": [
        "# image size = 56 x 56, 500 images\n",
        "\n",
        "# specify the below path to the unzipped data (ensure it ends with '/')\n",
        "# you can change the file path if needed\n",
        "src = '../dataset/data_500/'\n",
        "\n",
        "files = os.listdir(src)  # get the list of files in the source directory\n",
        "\n",
        "X,Y = [],[]  # initialize empty lists for storing images and labels\n",
        "\n",
        "# loop through the files, read each image, and normalize it (0 to 1)\n",
        "for file in files:\n",
        "    X.append(img_read(src,file)/255.)  # normalize the image\n",
        "    Y.append(float(file[:-4]))  # extract label from filename\n",
        "\n",
        "# convert the data to array\n",
        "X = np.array(X)\n",
        "Y = np.array(Y)\n",
        "\n",
        "# check the shape of the data\n",
        "print('X.shape:',np.shape(X),'Y.shape:',np.shape(Y))"
      ]
    },
    {
      "cell_type": "code",
      "execution_count": null,
      "metadata": {
        "colab": {
          "base_uri": "https://localhost:8080/",
          "height": 326
        },
        "id": "theQlWiQ7N-U",
        "outputId": "4c7d4997-6166-4db5-d30b-db0ea9c4ba82"
      },
      "outputs": [],
      "source": [
        "# display images\n",
        "fig = plt.figure(figsize=(20,10))\n",
        "nplot = 5\n",
        "\n",
        "for i in range(1,nplot+1):\n",
        "    ax = fig.add_subplot(1,nplot,i)\n",
        "    ax.imshow(X[i, :, :],cmap = plt.cm.bone)\n",
        "    ax.set_title(f\"Y {Y[i]:.2f}\")\n",
        "    ax.axis('off')\n",
        "plt.show()"
      ]
    },
    {
      "cell_type": "markdown",
      "metadata": {
        "id": "mFHpmJgopwZn"
      },
      "source": [
        "## 5. Define dataloader"
      ]
    },
    {
      "cell_type": "code",
      "execution_count": null,
      "metadata": {
        "colab": {
          "base_uri": "https://localhost:8080/"
        },
        "id": "yTW_wx68kYKc",
        "outputId": "f03f5edb-38c2-4d4e-e9c7-de9b3348b37c"
      },
      "outputs": [],
      "source": [
        "# split the data into 80% training set and 20% test set (test set can be considered as validation)\n",
        "train_images, test_images, train_labels, test_labels = train_test_split(X,Y, test_size=0.2, random_state=1,shuffle=True)\n",
        "\n",
        "# print the shapes and types of the training and test datasets\n",
        "print(np.shape(train_images), np.shape(test_images))\n",
        "print(type(train_images), type(test_images))\n",
        "\n",
        "# adjust output scale to (0,1)\n",
        "scaler = MinMaxScaler()\n",
        "train_labels = scaler.fit_transform(train_labels.reshape(-1,1)).squeeze()\n",
        "\n",
        "test_labels = scaler.transform(test_labels.reshape(-1,1))\n",
        "# convert the numpy arrays to PyTorch tensors\n",
        "train_images = torch.tensor(train_images, dtype=torch.float32)\n",
        "train_labels = torch.tensor(train_labels, dtype=torch.float32)\n",
        "test_images = torch.tensor(test_images, dtype=torch.float32)\n",
        "test_labels = torch.tensor(test_labels, dtype=torch.float32)\n",
        "\n",
        "\n",
        "# reshape the data for model training\n",
        "train_images = train_images.reshape(400,-1,56,56).to(device)\n",
        "test_images = test_images.reshape(100,-1,56,56).to(device)\n",
        "\n",
        "# print the new sizes and types of the training and test datasets after reshaping\n",
        "print(train_images.size(), test_images.size())\n",
        "print(type(train_images), type(test_images))\n",
        "\n",
        "# reshape the labels for training\n",
        "train_labels = train_labels.reshape(400,-1).to(device)\n",
        "test_labels = test_labels.reshape(100,-1).to(device)\n",
        "\n",
        "# print the new sizes and types of the labels after reshaping\n",
        "print(train_labels.size(), test_labels.size())\n",
        "print(type(train_labels),  type(test_labels), test_labels.dtype)"
      ]
    },
    {
      "cell_type": "markdown",
      "metadata": {
        "id": "-GNC7a4ctILy"
      },
      "source": [
        "## 6. Set to model architecture"
      ]
    },
    {
      "cell_type": "code",
      "execution_count": null,
      "metadata": {
        "id": "JN81j1jQgI6Z"
      },
      "outputs": [],
      "source": [
        "class CNN_Model(nn.Module):\n",
        "    def __init__(self, conv_layers_channels=[16, 32, 64], fc_units=[256, 1]):\n",
        "        super(CNN_Model, self).__init__()\n",
        "\n",
        "        # automatically determine the number of convolutional layers\n",
        "        num_conv_layers = len(conv_layers_channels)\n",
        "\n",
        "        # define the convolutional layers\n",
        "        self.convs = nn.ModuleList()\n",
        "        in_channels = 1  # input channels (1 for grayscale images)\n",
        "        for i in range(num_conv_layers):\n",
        "            out_channels = conv_layers_channels[i]\n",
        "            self.convs.append(nn.Conv2d(in_channels=in_channels, out_channels=out_channels, kernel_size=3, padding=1))\n",
        "            in_channels = out_channels  # set the output channels of this layer as input for the next layer\n",
        "\n",
        "        self.relu = nn.ReLU()  # ReLU activation function\n",
        "        self.maxpool = nn.MaxPool2d(kernel_size=2)  # Max-pooling with a kernel size of 2\n",
        "\n",
        "        # calculate the size of the flattened feature map after the convolutional layers\n",
        "        final_feature_map_size = 56 // (2 ** num_conv_layers)\n",
        "        conv_output_size = in_channels * final_feature_map_size * final_feature_map_size\n",
        "\n",
        "        # define the fully connected layers\n",
        "        self.flatten = nn.Flatten()  # flatten the feature map to prepare for fully connected layers\n",
        "        self.fcs = nn.ModuleList()\n",
        "        input_dim = conv_output_size\n",
        "        for fc_unit in fc_units[:-1]:  # create the hidden fully connected layers\n",
        "            self.fcs.append(nn.Linear(input_dim, fc_unit))\n",
        "            input_dim = fc_unit  # update input size for the next fully connected layer\n",
        "\n",
        "        # define the output layer\n",
        "        self.fc_out = nn.Linear(input_dim, fc_units[-1])\n",
        "\n",
        "    def forward(self, x):\n",
        "        # pass the input through the convolutional layers with ReLU and MaxPooling\n",
        "        for conv in self.convs:\n",
        "            x = self.relu(conv(x))\n",
        "            x = self.maxpool(x)\n",
        "\n",
        "        # flatten the output from the convolutional layers\n",
        "        x = self.flatten(x)\n",
        "\n",
        "        # pass the flattened output through the fully connected layers with ReLU\n",
        "        for fc in self.fcs:\n",
        "            x = self.relu(fc(x))\n",
        "\n",
        "        # pass the output through the final layer\n",
        "        x = self.fc_out(x)\n",
        "\n",
        "        return x"
      ]
    },
    {
      "cell_type": "markdown",
      "metadata": {
        "id": "hz2kQOKkXH9L"
      },
      "source": [
        "![CNN architecture.jpg](data:image/jpeg;base64,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)"
      ]
    },
    {
      "cell_type": "markdown",
      "metadata": {
        "id": "XYVFyPLCXMJd"
      },
      "source": [
        "## 7. Set model hyperparameters"
      ]
    },
    {
      "cell_type": "code",
      "execution_count": null,
      "metadata": {
        "colab": {
          "base_uri": "https://localhost:8080/"
        },
        "id": "WDK37PjjNHIl",
        "outputId": "32c5c0c8-c4bc-487f-9f73-a4ac17f79add"
      },
      "outputs": [],
      "source": [
        "# model architecture parameters\n",
        "\n",
        "# example usage:\n",
        "# - conv_layers_channels: a list to determine number of layers(equal to the length of this list) and output channels for each convolutional layer\n",
        "#                         (controls the depth/size of features at each layer)\n",
        "# - fc_units: a list of units for fully connected layers, where the last value determines the output size\n",
        "\n",
        "\n",
        "######################################## TODO ########################################\n",
        "\n",
        "# dafault settings; you can change these parameters if needed, and then implement steps [5] - [10] again\n",
        "model = CNN_Model(conv_layers_channels=[64, 128, 256], fc_units=[256, 1]).to(device)\n",
        "\n",
        "######################################################################################\n",
        "\n",
        "# ------------------------------\n",
        "# (**) Goal >> To enhance CNN model's prediction accuracy!!\n",
        "# ------------------------------\n",
        "# Model Hyperparameter tuning example:\n",
        "# 1) Adjust the number of layers (conv_layers_channels)\n",
        "#    >> A larger number of layers results in a lighter model but may reduce performance (related to pooling)\n",
        "# 2) Increase the number of output channels in the convolutional layers (conv_layers_channels)\n",
        "#    >> Increasing channels adds more parameters and allows the model to learn more features\n",
        "# 3) Modify the units in the fully connected layers (fc_units)\n",
        "#    >> Increasing the size or depth of fully connected layers may improve performance\n",
        "#\n",
        "# These changes might help the model learn more complex patterns, improving accuracy\n",
        "# model = CNN_Model(conv_layers_channels=[32, 64, 128, 256], fc_units=[512, 256, 1]).to(device)\n",
        "# This configuration creates deeper and larger convolutional and fully connected layers\n",
        "# ------------------------------\n",
        "\n",
        "# print the model's summary for an overview of its structure\n",
        "summary(model, (1, 56, 56))  # input shape: (channels, height, width)\n",
        "\n",
        "model  # print model architecture"
      ]
    },
    {
      "cell_type": "code",
      "execution_count": null,
      "metadata": {
        "id": "EF5Z-IgBpExA"
      },
      "outputs": [],
      "source": [
        "# training parameters\n",
        "\n",
        "learning_rate = 0.0001  # the rate at which the model learns; smaller values can lead to more precise learning, but too small may slow down training\n",
        "batch_size = 32  # number of samples processed before updating the model; Increasing batch size can improve training speed, but requires more memory\n",
        "num_epochs = 100  # number of times the entire training dataset is passed through the model; More epochs allow the model to learn better but may lead to overfitting"
      ]
    },
    {
      "cell_type": "markdown",
      "metadata": {
        "id": "oNYmH4k2tMoI",
        "tags": []
      },
      "source": [
        "## 8. Train model"
      ]
    },
    {
      "cell_type": "code",
      "execution_count": null,
      "metadata": {
        "colab": {
          "base_uri": "https://localhost:8080/"
        },
        "id": "NhMAIkRMMEDQ",
        "outputId": "e33e9c4c-6657-4051-d921-2a9018b0715b"
      },
      "outputs": [],
      "source": [
        "# create a DataLoader for the training dataset (includes shuffling)\n",
        "train_dataset = TensorDataset(train_images, train_labels)\n",
        "train_loader = DataLoader(train_dataset, batch_size=batch_size, shuffle=True)\n",
        "\n",
        "# define the loss function (MSE: Mean Squared Error)\n",
        "criterion = nn.MSELoss()\n",
        "\n",
        "# set the optimizer (Adam optimizer)\n",
        "optimizer = optim.Adam(model.parameters(), lr=learning_rate)\n",
        "\n",
        "# lists to track training and validation history\n",
        "loss_train_history = []\n",
        "rmse_train_history = []\n",
        "mape_train_history = []\n",
        "\n",
        "loss_valid_history = []\n",
        "rmse_valid_history = []\n",
        "mape_valid_history = []\n",
        "\n",
        "\n",
        "for epoch in range(num_epochs):\n",
        "\n",
        "    # training phase\n",
        "    model.train()  # set the model to training mode\n",
        "    total_loss = 0.0\n",
        "    rmse_train = 0.0\n",
        "    mape_train = 0.0\n",
        "    for images, labels in train_loader:\n",
        "        optimizer.zero_grad()  # reset the gradients\n",
        "        outputs = model(images).to(device)\n",
        "        labels = labels.to(device)\n",
        "        loss = criterion(outputs, labels)  # calculate the loss\n",
        "        loss.backward()  # backpropagate the loss\n",
        "        optimizer.step()  # update the model parameters\n",
        "\n",
        "        # accumulate metrics\n",
        "        total_loss += loss.item()\n",
        "\n",
        "        #inverse transformation for calculating metrics\n",
        "        outputs = outputs.cpu().detach().numpy().reshape(1,-1)\n",
        "        labels = labels.cpu().detach().numpy().reshape(1,-1)\n",
        "        outputs = scaler.inverse_transform(outputs)\n",
        "        labels = scaler.inverse_transform(labels)\n",
        "        outputs = torch.from_numpy(outputs).clone().detach()#.reshape(1,-1)\n",
        "        labels  = torch.from_numpy(labels).clone().detach()#.reshape(1,-1)\n",
        "\n",
        "        rmse_train += mean_squared_error(outputs, labels, squared=False).item() # returns RMSE value if set to False\n",
        "        mape_train += mean_absolute_percentage_error(outputs, labels).item() * 100\n",
        "\n",
        "    # calculate average metrics for the training set\n",
        "    average_loss_train = total_loss / len(train_loader)\n",
        "    average_rmse_train = rmse_train / len(train_loader)\n",
        "    average_mape_train = mape_train / len(train_loader)\n",
        "\n",
        "    # save training metrics\n",
        "    loss_train_history.append(average_loss_train)\n",
        "    rmse_train_history.append(average_rmse_train)\n",
        "    mape_train_history.append(average_mape_train)\n",
        "\n",
        "    # evaluation phase (disable gradient calculation)\n",
        "    model.eval()\n",
        "    with torch.no_grad():\n",
        "        test_outputs = model(test_images).to(device)\n",
        "        loss_val = criterion(test_outputs, test_labels).item()  # calculate the validation loss\n",
        "\n",
        "        #inverse transformation for calculating metrics\n",
        "        test_outputs_inv = test_outputs.cpu().detach().numpy().reshape(1,-1)\n",
        "        test_labels_inv  = test_labels.cpu().detach().numpy().reshape(1,-1)\n",
        "        test_outputs_inv = scaler.inverse_transform(test_outputs_inv)\n",
        "        test_labels_inv  = scaler.inverse_transform(test_labels_inv)\n",
        "        test_outputs_inv = torch.from_numpy(test_outputs_inv).clone().detach().reshape(1,-1)\n",
        "        test_labels_inv  = torch.from_numpy(test_labels_inv).clone().detach().reshape(1,-1)\n",
        "\n",
        "        rmse_val = mean_squared_error(test_outputs, test_labels, squared=False).item()  # RMSE for the validation set\n",
        "        mape_val = mean_absolute_percentage_error(test_outputs, test_labels).item() * 100  # MAPE for the validation set\n",
        "\n",
        "    # save training metrics\n",
        "    loss_valid_history.append(loss_val)\n",
        "    rmse_valid_history.append(rmse_val)\n",
        "    mape_valid_history.append(mape_val)\n",
        "\n",
        "    # print training and validation metrics for the current epoch\n",
        "    print(f\"Epoch [{epoch+1}/{num_epochs}], TRAIN_RMSE: {average_rmse_train:.4f}, TRAIN_MAPE: {average_mape_train:.4f}, VAL_RMSE: {rmse_val:.4f}, VAL_MAPE: {mape_val:.4f}\")"
      ]
    },
    {
      "cell_type": "markdown",
      "metadata": {
        "id": "kFJVRQPvE3tE"
      },
      "source": [
        "## 9. Visualize learning history"
      ]
    },
    {
      "cell_type": "code",
      "execution_count": null,
      "metadata": {
        "colab": {
          "base_uri": "https://localhost:8080/",
          "height": 1000
        },
        "id": "R0a1TmGukoVK",
        "outputId": "9eb395e7-1eaf-4f2d-88f3-5fea7dfdfd62"
      },
      "outputs": [],
      "source": [
        "# Graph Visualization\n",
        "plot_loss(loss_train_history, loss_valid_history, '(a) Loss')  # Loss variation over epochs during training\n",
        "plt.show()\n",
        "plot_rmse(rmse_train_history, rmse_valid_history, '(b) RMSE')  # RMSE variation over epochs during training\n",
        "plt.show()\n",
        "plot_mape(mape_train_history, mape_valid_history, '(c) MAPE')  # MAPE variation over epochs during training\n",
        "plt.show()"
      ]
    },
    {
      "cell_type": "markdown",
      "metadata": {
        "id": "RkUhTMoYEmpk"
      },
      "source": [
        "## 10. Evaluate model performance"
      ]
    },
    {
      "cell_type": "code",
      "execution_count": null,
      "metadata": {
        "colab": {
          "base_uri": "https://localhost:8080/",
          "height": 651
        },
        "id": "Hodj0IZKsX0C",
        "outputId": "bf3ca513-88fb-47e0-bace-e0399f6cca80"
      },
      "outputs": [],
      "source": [
        "# load the saved model and set it to evaluation mode\n",
        "model.eval().to(device)\n",
        "\n",
        "# predict using the model (on the validation dataset)\n",
        "pred_labels = model(test_images)  # returns the predicted values (y_pred)\n",
        "\n",
        "# evaluate the model performance (RMSE & MAPE)\n",
        "each_rmse_test = mean_squared_error(pred_labels, test_labels, squared=False).item()\n",
        "each_mape_test = mean_absolute_percentage_error(test_labels, pred_labels).item()\n",
        "\n",
        "# calculate and visualize the R2\n",
        "pred_labels = pred_labels.cpu().detach().numpy()\n",
        "test_labels = test_labels.cpu().numpy()\n",
        "pred_labels = scaler.inverse_transform(pred_labels)\n",
        "test_labels = scaler.inverse_transform(test_labels)\n",
        "\n",
        "\n",
        "plt.figure(figsize=(6,6))\n",
        "plt.plot(test_labels, test_labels,'-',color='black')\n",
        "plt.scatter(test_labels, pred_labels,s=50,alpha=0.3,color='red')\n",
        "plt.legend(['gt','pred'],loc='upper left')\n",
        "plt.title('Prediction Performance')\n",
        "plt.text(test_labels.max(),test_labels.min(),'R2 = {}'.format(round(r_val(test_labels, pred_labels),4)))\n",
        "plt.xlabel('Ground Truth')\n",
        "plt.ylabel('Prediction Value')\n",
        "plt.grid(True)\n",
        "\n",
        "\n",
        "# fine-tune your model by minimizing rmse value (validation dataset)\n",
        "print(\" ----- evaluation results ----- \")\n",
        "print(\" \")\n",
        "print(\"valid RMSE : \" , np.round(each_rmse_test,4))\n",
        "print(\"valid MAPE : \" , np.round(each_mape_test,4))\n",
        "print(\"valid R2 : \" , r_val(test_labels, pred_labels))"
      ]
    }
  ],
  "metadata": {
    "accelerator": "GPU",
    "colab": {
      "gpuType": "T4",
      "include_colab_link": true,
      "provenance": []
    },
    "kernelspec": {
      "display_name": "dl",
      "language": "python",
      "name": "python3"
    },
    "language_info": {
      "codemirror_mode": {
        "name": "ipython",
        "version": 3
      },
      "file_extension": ".py",
      "mimetype": "text/x-python",
      "name": "python",
      "nbconvert_exporter": "python",
      "pygments_lexer": "ipython3",
      "version": "3.12.9"
    }
  },
  "nbformat": 4,
  "nbformat_minor": 0
}
