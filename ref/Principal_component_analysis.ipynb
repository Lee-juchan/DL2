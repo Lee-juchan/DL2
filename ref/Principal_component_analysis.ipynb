{
 "cells": [
  {
   "cell_type": "markdown",
   "id": "KeuFct5irbCw",
   "metadata": {
    "id": "KeuFct5irbCw"
   },
   "source": [
    "<a href=\"https://colab.research.google.com/drive/1OA-6XJdk7Ujj5yuC7PdI96jEF2REJCMD#scrollTo=Kqbfprh6oQcX\" target=\"_parent\"><img src=\"https://colab.research.google.com/assets/colab-badge.svg\" alt=\"Open In Colab\"/></a>"
   ]
  },
  {
   "cell_type": "markdown",
   "id": "Kqbfprh6oQcX",
   "metadata": {
    "id": "Kqbfprh6oQcX"
   },
   "source": [
    "# Principal Component Analysis (PCA)"
   ]
  },
  {
   "cell_type": "markdown",
   "id": "6og1pIEGobBO",
   "metadata": {
    "id": "6og1pIEGobBO"
   },
   "source": [
    "## 1. Load dataset & import library"
   ]
  },
  {
   "cell_type": "code",
   "execution_count": null,
   "id": "7hEVD_nKoaPd",
   "metadata": {
    "colab": {
     "base_uri": "https://localhost:8080/"
    },
    "executionInfo": {
     "elapsed": 18510,
     "status": "ok",
     "timestamp": 1728383882090,
     "user": {
      "displayName": "Smart Design Lab",
      "userId": "14049043496649695794"
     },
     "user_tz": -540
    },
    "id": "7hEVD_nKoaPd",
    "outputId": "fafb642b-64bb-47da-e74f-ed8b9a937a01"
   },
   "outputs": [],
   "source": [
    "!gdown --folder https://drive.google.com/drive/folders/1FDfaBhqWEWhNKH0BX1S00_SU0CIZuvNj?usp=drive_link"
   ]
  },
  {
   "cell_type": "code",
   "execution_count": null,
   "id": "dbeaf470",
   "metadata": {
    "id": "dbeaf470"
   },
   "outputs": [],
   "source": [
    "import os\n",
    "import cv2 as cv\n",
    "import pandas as pd\n",
    "import matplotlib.pyplot as plt\n",
    "from sklearn.decomposition import PCA\n",
    "import numpy as np\n",
    "import sklearn"
   ]
  },
  {
   "cell_type": "markdown",
   "id": "f7807e62",
   "metadata": {
    "id": "f7807e62"
   },
   "source": [
    "## 2. Load train/test data from CSV file"
   ]
  },
  {
   "cell_type": "code",
   "execution_count": null,
   "id": "dfd62f39",
   "metadata": {
    "colab": {
     "base_uri": "https://localhost:8080/"
    },
    "executionInfo": {
     "elapsed": 5893,
     "status": "ok",
     "timestamp": 1728373183130,
     "user": {
      "displayName": "Smart Design Lab",
      "userId": "14049043496649695794"
     },
     "user_tz": -540
    },
    "id": "dfd62f39",
    "outputId": "3848b8f9-39b4-4a84-b365-45a53eded461"
   },
   "outputs": [],
   "source": [
    "X_train = pd.read_csv('../dataset/data_ML/X_train.csv', header=None).values\n",
    "y_train = pd.read_csv('../dataset/data_ML/y_train.csv', header=None).values\n",
    "X_test = pd.read_csv('../dataset/data_ML/X_test.csv', header=None).values\n",
    "y_test = pd.read_csv('../dataset/data_ML/y_test.csv', header=None).values\n",
    "print(f'X_train.shape: {X_train.shape}, X_test.shape: {X_test.shape}')"
   ]
  },
  {
   "cell_type": "markdown",
   "id": "2e6a0f09",
   "metadata": {
    "id": "2e6a0f09"
   },
   "source": [
    "## 3. Dimensionality Reduction using PCA"
   ]
  },
  {
   "cell_type": "markdown",
   "id": "3e6fb51f",
   "metadata": {
    "id": "3e6fb51f"
   },
   "source": [
    "#### PCA code implementation"
   ]
  },
  {
   "cell_type": "code",
   "execution_count": null,
   "id": "98925ec2",
   "metadata": {
    "id": "98925ec2",
    "scrolled": false
   },
   "outputs": [],
   "source": [
    "# Define the number of components for PCA\n",
    "n_components = 2  # Target dimensionality (you can change this as needed)\n",
    "\n",
    "# Perform PCA\n",
    "pca = PCA(n_components=n_components)\n",
    "reduced_data = pca.fit_transform(X_train)"
   ]
  },
  {
   "cell_type": "markdown",
   "id": "f27231a9",
   "metadata": {
    "id": "f27231a9"
   },
   "source": [
    "### Results check"
   ]
  },
  {
   "cell_type": "code",
   "execution_count": null,
   "id": "2164269e",
   "metadata": {
    "colab": {
     "base_uri": "https://localhost:8080/"
    },
    "executionInfo": {
     "elapsed": 504,
     "status": "ok",
     "timestamp": 1728373205954,
     "user": {
      "displayName": "Smart Design Lab",
      "userId": "14049043496649695794"
     },
     "user_tz": -540
    },
    "id": "2164269e",
    "outputId": "0bbc3e5d-131c-4a7b-ca48-eda259448620"
   },
   "outputs": [],
   "source": [
    "# Display the explained variance ratio for each principal component\n",
    "print(\"Explained variance ratio:\", pca.explained_variance_ratio_)\n",
    "\n",
    "# Display the shape of the reduced data\n",
    "print(\"Shape of reduced data:\", reduced_data.shape)"
   ]
  },
  {
   "cell_type": "markdown",
   "id": "777c1e28",
   "metadata": {
    "id": "777c1e28"
   },
   "source": [
    "#### 2D visualization of PCA-reduced data"
   ]
  },
  {
   "cell_type": "code",
   "execution_count": null,
   "id": "63ce27da",
   "metadata": {
    "colab": {
     "base_uri": "https://localhost:8080/",
     "height": 491
    },
    "executionInfo": {
     "elapsed": 1690,
     "status": "ok",
     "timestamp": 1728373482725,
     "user": {
      "displayName": "Smart Design Lab",
      "userId": "14049043496649695794"
     },
     "user_tz": -540
    },
    "id": "63ce27da",
    "outputId": "58142d28-715d-431d-adc1-90871a6d7dd5"
   },
   "outputs": [],
   "source": [
    "norm_idx = y_train == 0\n",
    "abnorm_idx = y_train == 1\n",
    "print(norm_idx.shape)\n",
    "\n",
    "norm_data = reduced_data[norm_idx.squeeze()]\n",
    "abnorm_data = reduced_data[abnorm_idx.squeeze()]\n",
    "\n",
    "plt.scatter(norm_data[:,0],norm_data[:,1], label = 'Normal data')\n",
    "plt.scatter(abnorm_data[:,0],abnorm_data[:,1], label = 'Abnormal data')\n",
    "plt.title('2D Visualization of PCA-reduced Data', fontsize=14)\n",
    "plt.xlabel('Principal Component 1')\n",
    "plt.ylabel('Principal Component 2')\n",
    "\n",
    "plt.legend()\n",
    "plt.show()"
   ]
  }
 ],
 "metadata": {
  "colab": {
   "provenance": []
  },
  "kernelspec": {
   "display_name": "dl",
   "language": "python",
   "name": "python3"
  },
  "language_info": {
   "codemirror_mode": {
    "name": "ipython",
    "version": 3
   },
   "file_extension": ".py",
   "mimetype": "text/x-python",
   "name": "python",
   "nbconvert_exporter": "python",
   "pygments_lexer": "ipython3",
   "version": "3.12.3"
  }
 },
 "nbformat": 4,
 "nbformat_minor": 5
}
